{
 "cells": [
  {
   "cell_type": "code",
   "execution_count": 6,
   "id": "7a72aa01",
   "metadata": {},
   "outputs": [],
   "source": [
    "from gplearn.genetic import SymbolicTransformer\n",
    "from sklearn.utils import check_random_state\n",
    "from sklearn.datasets import load_diabetes\n",
    "import numpy as np"
   ]
  },
  {
   "cell_type": "code",
   "execution_count": 7,
   "id": "92c23342",
   "metadata": {},
   "outputs": [],
   "source": [
    "rng = check_random_state(0)\n",
    "diabetes = load_diabetes()\n",
    "perm = rng.permutation(diabetes.target.size)\n",
    "diabetes.data = diabetes.data[perm]\n",
    "diabetes.target = diabetes.target[perm]"
   ]
  },
  {
   "cell_type": "code",
   "execution_count": 8,
   "id": "83966c98",
   "metadata": {},
   "outputs": [
    {
     "name": "stdout",
     "output_type": "stream",
     "text": [
      "0.4340571824299352\n"
     ]
    }
   ],
   "source": [
    "from sklearn.linear_model import Ridge\n",
    "est = Ridge()\n",
    "est.fit(diabetes.data[:300, :], diabetes.target[:300])\n",
    "print(est.score(diabetes.data[300:, :], diabetes.target[300:]))"
   ]
  },
  {
   "cell_type": "code",
   "execution_count": 9,
   "id": "99bf686c",
   "metadata": {},
   "outputs": [
    {
     "name": "stdout",
     "output_type": "stream",
     "text": [
      "    |   Population Average    |             Best Individual              |\n",
      "---- ------------------------- ------------------------------------------ ----------\n",
      " Gen   Length          Fitness   Length          Fitness      OOB Fitness  Time Left\n",
      "   0    11.37         0.126617        5         0.612825         0.680003     43.31s\n",
      "   1     6.63         0.344374        3         0.659085         0.451792     42.26s\n",
      "   2     5.36          0.47373        3         0.669018         0.321485     36.88s\n",
      "   3     4.74         0.587613        3         0.673353         0.312487     31.65s\n",
      "   4     4.39         0.597168       13         0.675281         0.494818     21.07s\n",
      "   5     4.31         0.611994       15         0.686134         0.148192     16.06s\n",
      "   6     4.89         0.611891        9         0.685649         0.199004     14.99s\n",
      "   7     6.49         0.617031        9         0.688308         0.287285     14.58s\n",
      "   8     9.19         0.628526       17         0.720605         0.263613     13.42s\n",
      "   9    11.44         0.637057       18         0.701905         0.607695     12.50s\n",
      "  10    15.19         0.646744       31         0.709565         0.485818     12.39s\n",
      "  11    18.69         0.654609       28         0.717319         0.373911     12.31s\n",
      "  12    21.14         0.660923       28         0.714525         0.388123     10.39s\n",
      "  13    23.66         0.664435       24         0.717779         0.499735      8.28s\n",
      "  14    23.80         0.665121       40         0.717637         0.454893      7.05s\n",
      "  15    24.05         0.668179       32         0.718169         0.357271      5.77s\n",
      "  16    24.55         0.666115       26         0.718859         0.382449      4.56s\n",
      "  17    24.84         0.666421       27         0.715717         0.487777      3.67s\n",
      "  18    25.59         0.665822       30         0.720983         0.479337      1.66s\n",
      "  19    26.25         0.669091       45         0.722444         0.365521      0.00s\n",
      "0.5336811804650685\n"
     ]
    }
   ],
   "source": [
    "function_set = ['add', 'sub', 'mul', 'div', 'sqrt', 'log',\n",
    "                'abs', 'neg', 'inv', 'max', 'min']\n",
    "gp = SymbolicTransformer(generations=20, population_size=2000,\n",
    "                         hall_of_fame=100, n_components=10,\n",
    "                         function_set=function_set,\n",
    "                         parsimony_coefficient=0.0005,\n",
    "                         max_samples=0.9, verbose=1,\n",
    "                         random_state=0)\n",
    "gp.fit(diabetes.data[:300, :], diabetes.target[:300])\n",
    "\n",
    "gp_features = gp.transform(diabetes.data)\n",
    "new_diabetes = np.hstack((diabetes.data, gp_features))\n",
    "\n",
    "est = Ridge()\n",
    "est.fit(new_diabetes[:300, :], diabetes.target[:300])\n",
    "print(est.score(new_diabetes[300:, :], diabetes.target[300:]))"
   ]
  },
  {
   "cell_type": "code",
   "execution_count": 10,
   "id": "21fa4631",
   "metadata": {},
   "outputs": [],
   "source": [
    "#cómo el método del transformador simbólico ayuda a mejorar el rendimiento de la regresión\n",
    "\"\"\"\n",
    "Este enfoque innovador permite descubrir relaciones complejas y no lineales dentro de los datos que los modelos de regresión tradicionales podrían pasar por alto. \n",
    "Al transformar y combinar características de diversas maneras matemáticas, actúa como una herramienta poderosa para la ingeniería de características, revelando elementos más predictivos.\n",
    "Lo que es particularmente impactante es su flexibilidad de modelo; no nos confina a estructuras de modelos predefinidas, permitiendo una adaptación más natural a los patrones subyacentes de los datos.\n",
    "Además, su capacidad para filtrar ruido y prevenir el sobreajuste contribuye a modelos robustos y generalizables. \n",
    "Las expresiones simbólicas resultantes proporcionan no solo poder predictivo, sino también interpretabilidad, ofreciendo valiosos conocimientos sobre el comportamiento de los datos.\n",
    "En mis estudios y experimentos, emplear el método del transformador simbólico ha llevado consistentemente a modelos de regresión más precisos, confiables y comprensibles, demostrando su inmenso potencial en el campo del aprendizaje automático y el análisis de datos.\n",
    "\"\"\""
   ]
  },
  {
   "cell_type": "code",
   "execution_count": null,
   "id": "269a8d77",
   "metadata": {},
   "outputs": [],
   "source": []
  }
 ],
 "metadata": {
  "kernelspec": {
   "display_name": "Python 3 (ipykernel)",
   "language": "python",
   "name": "python3"
  },
  "language_info": {
   "codemirror_mode": {
    "name": "ipython",
    "version": 3
   },
   "file_extension": ".py",
   "mimetype": "text/x-python",
   "name": "python",
   "nbconvert_exporter": "python",
   "pygments_lexer": "ipython3",
   "version": "3.9.13"
  }
 },
 "nbformat": 4,
 "nbformat_minor": 5
}
